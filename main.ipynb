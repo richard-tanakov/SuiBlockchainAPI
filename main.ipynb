{
 "cells": [
  {
   "cell_type": "code",
   "execution_count": null,
   "metadata": {},
   "outputs": [],
   "source": [
    "from dotenv import load_dotenv\n",
    "import os\n",
    "import inquiries as inq\n",
    "import json\n",
    "from rich import print\n",
    "from DataHandling import dataPackagingOfСoins as dbCoin, dataPackagingOfHolders\n",
    "load_dotenv()\n",
    "\n",
    "ApiKeyBlockberry = os.getenv('ApiKeyBlockberry')\n",
    "headers = {\"x-api-key\": f\"{ApiKeyBlockberry}\"}"
   ]
  },
  {
   "cell_type": "code",
   "execution_count": 2,
   "metadata": {},
   "outputs": [],
   "source": [
    "def dexStatistecs():\n",
    "    \"\"\" Getting top Dex and statistics on them \"\"\"\n",
    "    print(inq.getDexStatistics(headers))\n"
   ]
  },
  {
   "cell_type": "code",
   "execution_count": null,
   "metadata": {},
   "outputs": [],
   "source": [
    "def topHolders(coin):\n",
    "    \"\"\" getting top wallets \"\"\"\n",
    "    dataHolders = inq.getApiTopHoldersCoin(coin, headers)\n",
    "    dataHol = (dataHolders[\"content\"][0:])\n",
    "    for holder in dataHol:\n",
    "        dataPackagingOfHolders(holder)\n",
    "        \n"
   ]
  },
  {
   "cell_type": "code",
   "execution_count": null,
   "metadata": {},
   "outputs": [],
   "source": [
    "def tokenApi(coin):\n",
    "    \"\"\" Two queries are created to retrieve information about the coin. \"\"\"\n",
    "    dataGetToken = inq.getApiToken(coin, headers) \n",
    "    metaDataToken = inq.getApiMetaDataToken(coin,headers)\n",
    "    (dbCoin(dataGetToken['content'][0],metaDataToken))\n",
    "    topHolders(coin)\n",
    "\n",
    "\n",
    "\n",
    "tokenApi(input())"
   ]
  }
 ],
 "metadata": {
  "kernelspec": {
   "display_name": ".venv",
   "language": "python",
   "name": "python3"
  },
  "language_info": {
   "codemirror_mode": {
    "name": "ipython",
    "version": 3
   },
   "file_extension": ".py",
   "mimetype": "text/x-python",
   "name": "python",
   "nbconvert_exporter": "python",
   "pygments_lexer": "ipython3",
   "version": "3.12.3"
  }
 },
 "nbformat": 4,
 "nbformat_minor": 2
}
